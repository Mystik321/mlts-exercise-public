{
 "cells": [
  {
   "cell_type": "markdown",
   "metadata": {},
   "source": [
    "<h1>MLTS Exercise 01 - Data Exploration</h1>"
   ]
  },
  {
   "cell_type": "markdown",
   "metadata": {},
   "source": [
    "### Task:\n",
    "\n",
    "This notebook provides three time series datasets, each representing daily user counts for separate applications over the year 2020:\n",
    "* `App_1_Users_2020.csv`\n",
    "* `App_2_Users_2020.csv`\n",
    "* `App_3_Users_2020.csv`\n",
    "\n",
    "For each dataset, complete the following tasks:\n",
    "\n",
    "* Load the dataset.\n",
    "* Visualize the data to observe user trends over time.\n",
    "* Examine the data for any notable characteristics.\n",
    "* Split the data into training and test sets, with the test set comprising the final three months of 2020.\n",
    "\n",
    "In subsequent Exercises 02 and 03, these datasets will be utilized to perform Bayesian Linear Regression analysis."
   ]
  },
  {
   "cell_type": "code",
   "execution_count": 3,
   "metadata": {},
   "outputs": [],
   "source": [
    "# import packages\n",
    "import pandas as pd\n",
    "import matplotlib.pyplot as plt"
   ]
  },
  {
   "cell_type": "code",
   "execution_count": null,
   "metadata": {},
   "outputs": [],
   "source": [
    "# TODO"
   ]
  }
 ],
 "metadata": {
  "kernelspec": {
   "display_name": "pymc_env",
   "language": "python",
   "name": "python3"
  },
  "language_info": {
   "codemirror_mode": {
    "name": "ipython",
    "version": 3
   },
   "file_extension": ".py",
   "mimetype": "text/x-python",
   "name": "python",
   "nbconvert_exporter": "python",
   "pygments_lexer": "ipython3",
   "version": "3.12.7"
  }
 },
 "nbformat": 4,
 "nbformat_minor": 2
}
